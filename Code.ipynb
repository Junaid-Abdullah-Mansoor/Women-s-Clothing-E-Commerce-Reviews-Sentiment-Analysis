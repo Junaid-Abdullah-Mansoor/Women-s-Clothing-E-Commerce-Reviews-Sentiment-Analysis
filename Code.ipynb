{
 "cells": [
  {
   "cell_type": "code",
   "execution_count": 42,
   "id": "f3322ca5",
   "metadata": {},
   "outputs": [],
   "source": [
    "import pandas as pd\n",
    "import numpy as np\n",
    "import matplotlib.pyplot as plt\n",
    "import seaborn as sns\n",
    "from category_encoders import BinaryEncoder\n",
    "from sklearn.model_selection import train_test_split\n",
    "from sklearn.tree import DecisionTreeClassifier\n",
    "from sklearn.neighbors import KNeighborsClassifier\n",
    "from sklearn.naive_bayes import GaussianNB\n",
    "from sklearn.linear_model import LogisticRegression\n",
    "from sklearn.ensemble import RandomForestClassifier\n",
    "from sklearn.metrics import accuracy_score, log_loss\n",
    "import warnings\n",
    "warnings.filterwarnings('ignore')"
   ]
  },
  {
   "cell_type": "markdown",
   "id": "9dca67d1",
   "metadata": {},
   "source": [
    "### Data Load"
   ]
  },
  {
   "cell_type": "code",
   "execution_count": 43,
   "id": "db527ce2",
   "metadata": {},
   "outputs": [],
   "source": [
    "df=pd.read_csv(\"Womens Clothing E-Commerce Reviews.csv\")"
   ]
  },
  {
   "cell_type": "markdown",
   "id": "f0d550eb",
   "metadata": {},
   "source": [
    "### Head Of the Data"
   ]
  },
  {
   "cell_type": "code",
   "execution_count": 44,
   "id": "7233ede1",
   "metadata": {},
   "outputs": [
    {
     "data": {
      "text/html": [
       "<div>\n",
       "<style scoped>\n",
       "    .dataframe tbody tr th:only-of-type {\n",
       "        vertical-align: middle;\n",
       "    }\n",
       "\n",
       "    .dataframe tbody tr th {\n",
       "        vertical-align: top;\n",
       "    }\n",
       "\n",
       "    .dataframe thead th {\n",
       "        text-align: right;\n",
       "    }\n",
       "</style>\n",
       "<table border=\"1\" class=\"dataframe\">\n",
       "  <thead>\n",
       "    <tr style=\"text-align: right;\">\n",
       "      <th></th>\n",
       "      <th>Unnamed: 0</th>\n",
       "      <th>Clothing ID</th>\n",
       "      <th>Age</th>\n",
       "      <th>Title</th>\n",
       "      <th>Review Text</th>\n",
       "      <th>Rating</th>\n",
       "      <th>Recommended IND</th>\n",
       "      <th>Positive Feedback Count</th>\n",
       "      <th>Division Name</th>\n",
       "      <th>Department Name</th>\n",
       "      <th>Class Name</th>\n",
       "    </tr>\n",
       "  </thead>\n",
       "  <tbody>\n",
       "    <tr>\n",
       "      <th>0</th>\n",
       "      <td>0</td>\n",
       "      <td>767</td>\n",
       "      <td>33</td>\n",
       "      <td>NaN</td>\n",
       "      <td>Absolutely wonderful - silky and sexy and comf...</td>\n",
       "      <td>4</td>\n",
       "      <td>1</td>\n",
       "      <td>0</td>\n",
       "      <td>Initmates</td>\n",
       "      <td>Intimate</td>\n",
       "      <td>Intimates</td>\n",
       "    </tr>\n",
       "    <tr>\n",
       "      <th>1</th>\n",
       "      <td>1</td>\n",
       "      <td>1080</td>\n",
       "      <td>34</td>\n",
       "      <td>NaN</td>\n",
       "      <td>Love this dress!  it's sooo pretty.  i happene...</td>\n",
       "      <td>5</td>\n",
       "      <td>1</td>\n",
       "      <td>4</td>\n",
       "      <td>General</td>\n",
       "      <td>Dresses</td>\n",
       "      <td>Dresses</td>\n",
       "    </tr>\n",
       "    <tr>\n",
       "      <th>2</th>\n",
       "      <td>2</td>\n",
       "      <td>1077</td>\n",
       "      <td>60</td>\n",
       "      <td>Some major design flaws</td>\n",
       "      <td>I had such high hopes for this dress and reall...</td>\n",
       "      <td>3</td>\n",
       "      <td>0</td>\n",
       "      <td>0</td>\n",
       "      <td>General</td>\n",
       "      <td>Dresses</td>\n",
       "      <td>Dresses</td>\n",
       "    </tr>\n",
       "    <tr>\n",
       "      <th>3</th>\n",
       "      <td>3</td>\n",
       "      <td>1049</td>\n",
       "      <td>50</td>\n",
       "      <td>My favorite buy!</td>\n",
       "      <td>I love, love, love this jumpsuit. it's fun, fl...</td>\n",
       "      <td>5</td>\n",
       "      <td>1</td>\n",
       "      <td>0</td>\n",
       "      <td>General Petite</td>\n",
       "      <td>Bottoms</td>\n",
       "      <td>Pants</td>\n",
       "    </tr>\n",
       "    <tr>\n",
       "      <th>4</th>\n",
       "      <td>4</td>\n",
       "      <td>847</td>\n",
       "      <td>47</td>\n",
       "      <td>Flattering shirt</td>\n",
       "      <td>This shirt is very flattering to all due to th...</td>\n",
       "      <td>5</td>\n",
       "      <td>1</td>\n",
       "      <td>6</td>\n",
       "      <td>General</td>\n",
       "      <td>Tops</td>\n",
       "      <td>Blouses</td>\n",
       "    </tr>\n",
       "  </tbody>\n",
       "</table>\n",
       "</div>"
      ],
      "text/plain": [
       "   Unnamed: 0  Clothing ID  Age                    Title  \\\n",
       "0           0          767   33                      NaN   \n",
       "1           1         1080   34                      NaN   \n",
       "2           2         1077   60  Some major design flaws   \n",
       "3           3         1049   50         My favorite buy!   \n",
       "4           4          847   47         Flattering shirt   \n",
       "\n",
       "                                         Review Text  Rating  Recommended IND  \\\n",
       "0  Absolutely wonderful - silky and sexy and comf...       4                1   \n",
       "1  Love this dress!  it's sooo pretty.  i happene...       5                1   \n",
       "2  I had such high hopes for this dress and reall...       3                0   \n",
       "3  I love, love, love this jumpsuit. it's fun, fl...       5                1   \n",
       "4  This shirt is very flattering to all due to th...       5                1   \n",
       "\n",
       "   Positive Feedback Count   Division Name Department Name Class Name  \n",
       "0                        0       Initmates        Intimate  Intimates  \n",
       "1                        4         General         Dresses    Dresses  \n",
       "2                        0         General         Dresses    Dresses  \n",
       "3                        0  General Petite         Bottoms      Pants  \n",
       "4                        6         General            Tops    Blouses  "
      ]
     },
     "execution_count": 44,
     "metadata": {},
     "output_type": "execute_result"
    }
   ],
   "source": [
    "df.head()"
   ]
  },
  {
   "cell_type": "markdown",
   "id": "ba2cc9a5",
   "metadata": {},
   "source": [
    "### Information of dataset columns"
   ]
  },
  {
   "cell_type": "code",
   "execution_count": 45,
   "id": "ea9f6b39",
   "metadata": {},
   "outputs": [
    {
     "name": "stdout",
     "output_type": "stream",
     "text": [
      "<class 'pandas.core.frame.DataFrame'>\n",
      "RangeIndex: 23486 entries, 0 to 23485\n",
      "Data columns (total 11 columns):\n",
      " #   Column                   Non-Null Count  Dtype \n",
      "---  ------                   --------------  ----- \n",
      " 0   Unnamed: 0               23486 non-null  int64 \n",
      " 1   Clothing ID              23486 non-null  int64 \n",
      " 2   Age                      23486 non-null  int64 \n",
      " 3   Title                    19676 non-null  object\n",
      " 4   Review Text              22641 non-null  object\n",
      " 5   Rating                   23486 non-null  int64 \n",
      " 6   Recommended IND          23486 non-null  int64 \n",
      " 7   Positive Feedback Count  23486 non-null  int64 \n",
      " 8   Division Name            23472 non-null  object\n",
      " 9   Department Name          23472 non-null  object\n",
      " 10  Class Name               23472 non-null  object\n",
      "dtypes: int64(6), object(5)\n",
      "memory usage: 2.0+ MB\n"
     ]
    }
   ],
   "source": [
    "df.info()"
   ]
  },
  {
   "cell_type": "markdown",
   "id": "bb33af8c",
   "metadata": {},
   "source": [
    "### Shape of the dataset"
   ]
  },
  {
   "cell_type": "code",
   "execution_count": 46,
   "id": "6b613328",
   "metadata": {},
   "outputs": [
    {
     "data": {
      "text/plain": [
       "(23486, 11)"
      ]
     },
     "execution_count": 46,
     "metadata": {},
     "output_type": "execute_result"
    }
   ],
   "source": [
    "df.shape"
   ]
  },
  {
   "cell_type": "code",
   "execution_count": 47,
   "id": "dc2575bd",
   "metadata": {},
   "outputs": [],
   "source": [
    "df = df.drop(columns=\"Unnamed: 0\")"
   ]
  },
  {
   "cell_type": "markdown",
   "id": "1947e12b",
   "metadata": {},
   "source": [
    "### Concate the review and title column of the dataset"
   ]
  },
  {
   "cell_type": "code",
   "execution_count": 48,
   "id": "5f4567bb",
   "metadata": {},
   "outputs": [],
   "source": [
    "concat_reviews = []\n",
    "\n",
    "for title, review in zip(df[\"Title\"], df[\"Review Text\"]):\n",
    "    if not pd.isnull(title) and pd.isnull(review):\n",
    "        concat_review = title\n",
    "    elif pd.isnull(title) and not pd.isnull(review):\n",
    "        concat_review = review\n",
    "    elif not pd.isnull(title) and not pd.isnull(review):\n",
    "        concat_review = title + \" \" + review\n",
    "    concat_reviews.append(concat_review)\n",
    "    \n",
    "df = df.drop(columns=[\"Title\", \"Review Text\"])\n",
    "df[\"concat reviews\"] = concat_reviews"
   ]
  },
  {
   "cell_type": "code",
   "execution_count": 49,
   "id": "0167a4b7",
   "metadata": {},
   "outputs": [
    {
     "data": {
      "text/html": [
       "<div>\n",
       "<style scoped>\n",
       "    .dataframe tbody tr th:only-of-type {\n",
       "        vertical-align: middle;\n",
       "    }\n",
       "\n",
       "    .dataframe tbody tr th {\n",
       "        vertical-align: top;\n",
       "    }\n",
       "\n",
       "    .dataframe thead th {\n",
       "        text-align: right;\n",
       "    }\n",
       "</style>\n",
       "<table border=\"1\" class=\"dataframe\">\n",
       "  <thead>\n",
       "    <tr style=\"text-align: right;\">\n",
       "      <th></th>\n",
       "      <th>Clothing ID</th>\n",
       "      <th>Age</th>\n",
       "      <th>Rating</th>\n",
       "      <th>Recommended IND</th>\n",
       "      <th>Positive Feedback Count</th>\n",
       "      <th>Division Name</th>\n",
       "      <th>Department Name</th>\n",
       "      <th>Class Name</th>\n",
       "      <th>concat reviews</th>\n",
       "    </tr>\n",
       "  </thead>\n",
       "  <tbody>\n",
       "    <tr>\n",
       "      <th>0</th>\n",
       "      <td>767</td>\n",
       "      <td>33</td>\n",
       "      <td>4</td>\n",
       "      <td>1</td>\n",
       "      <td>0</td>\n",
       "      <td>Initmates</td>\n",
       "      <td>Intimate</td>\n",
       "      <td>Intimates</td>\n",
       "      <td>Absolutely wonderful - silky and sexy and comf...</td>\n",
       "    </tr>\n",
       "    <tr>\n",
       "      <th>1</th>\n",
       "      <td>1080</td>\n",
       "      <td>34</td>\n",
       "      <td>5</td>\n",
       "      <td>1</td>\n",
       "      <td>4</td>\n",
       "      <td>General</td>\n",
       "      <td>Dresses</td>\n",
       "      <td>Dresses</td>\n",
       "      <td>Love this dress!  it's sooo pretty.  i happene...</td>\n",
       "    </tr>\n",
       "    <tr>\n",
       "      <th>2</th>\n",
       "      <td>1077</td>\n",
       "      <td>60</td>\n",
       "      <td>3</td>\n",
       "      <td>0</td>\n",
       "      <td>0</td>\n",
       "      <td>General</td>\n",
       "      <td>Dresses</td>\n",
       "      <td>Dresses</td>\n",
       "      <td>Some major design flaws I had such high hopes ...</td>\n",
       "    </tr>\n",
       "    <tr>\n",
       "      <th>3</th>\n",
       "      <td>1049</td>\n",
       "      <td>50</td>\n",
       "      <td>5</td>\n",
       "      <td>1</td>\n",
       "      <td>0</td>\n",
       "      <td>General Petite</td>\n",
       "      <td>Bottoms</td>\n",
       "      <td>Pants</td>\n",
       "      <td>My favorite buy! I love, love, love this jumps...</td>\n",
       "    </tr>\n",
       "    <tr>\n",
       "      <th>4</th>\n",
       "      <td>847</td>\n",
       "      <td>47</td>\n",
       "      <td>5</td>\n",
       "      <td>1</td>\n",
       "      <td>6</td>\n",
       "      <td>General</td>\n",
       "      <td>Tops</td>\n",
       "      <td>Blouses</td>\n",
       "      <td>Flattering shirt This shirt is very flattering...</td>\n",
       "    </tr>\n",
       "  </tbody>\n",
       "</table>\n",
       "</div>"
      ],
      "text/plain": [
       "   Clothing ID  Age  Rating  Recommended IND  Positive Feedback Count  \\\n",
       "0          767   33       4                1                        0   \n",
       "1         1080   34       5                1                        4   \n",
       "2         1077   60       3                0                        0   \n",
       "3         1049   50       5                1                        0   \n",
       "4          847   47       5                1                        6   \n",
       "\n",
       "    Division Name Department Name Class Name  \\\n",
       "0       Initmates        Intimate  Intimates   \n",
       "1         General         Dresses    Dresses   \n",
       "2         General         Dresses    Dresses   \n",
       "3  General Petite         Bottoms      Pants   \n",
       "4         General            Tops    Blouses   \n",
       "\n",
       "                                      concat reviews  \n",
       "0  Absolutely wonderful - silky and sexy and comf...  \n",
       "1  Love this dress!  it's sooo pretty.  i happene...  \n",
       "2  Some major design flaws I had such high hopes ...  \n",
       "3  My favorite buy! I love, love, love this jumps...  \n",
       "4  Flattering shirt This shirt is very flattering...  "
      ]
     },
     "execution_count": 49,
     "metadata": {},
     "output_type": "execute_result"
    }
   ],
   "source": [
    "df.head()"
   ]
  },
  {
   "cell_type": "markdown",
   "id": "7c552ea4",
   "metadata": {},
   "source": [
    "### Checking the unique value of the column \"Clothing ID\""
   ]
  },
  {
   "cell_type": "code",
   "execution_count": 50,
   "id": "9b25d84f",
   "metadata": {},
   "outputs": [
    {
     "name": "stdout",
     "output_type": "stream",
     "text": [
      "Value Counts:\n",
      " 1078    1024\n",
      "862      806\n",
      "1094     756\n",
      "1081     582\n",
      "872      545\n",
      "        ... \n",
      "776        1\n",
      "668        1\n",
      "633        1\n",
      "734        1\n",
      "522        1\n",
      "Name: Clothing ID, Length: 1206, dtype: int64\n",
      "--------------\n",
      "Unique Values:\n",
      " 1206\n"
     ]
    }
   ],
   "source": [
    "print(\"Value Counts:\\n\", df[\"Clothing ID\"].value_counts())\n",
    "print(\"--------------\")\n",
    "print(\"Unique Values:\\n\", df[\"Clothing ID\"].nunique())\n",
    "\n",
    "df = df.drop(columns=[\"Clothing ID\"])"
   ]
  },
  {
   "cell_type": "markdown",
   "id": "75e61790",
   "metadata": {},
   "source": [
    "### Percentage of missing value in each columns"
   ]
  },
  {
   "cell_type": "code",
   "execution_count": 51,
   "id": "e28b209f",
   "metadata": {},
   "outputs": [
    {
     "name": "stdout",
     "output_type": "stream",
     "text": [
      "Percentage of missing values:\n",
      "-----------------------------\n",
      "Division Name              0.06\n",
      "Department Name            0.06\n",
      "Class Name                 0.06\n",
      "Age                        0.00\n",
      "Rating                     0.00\n",
      "Recommended IND            0.00\n",
      "Positive Feedback Count    0.00\n",
      "concat reviews             0.00\n",
      "dtype: float64\n"
     ]
    }
   ],
   "source": [
    "print(\"Percentage of missing values:\")\n",
    "print(\"-----------------------------\")\n",
    "print(df.isnull().mean().round(4).mul(100).sort_values(ascending=False))"
   ]
  },
  {
   "cell_type": "markdown",
   "id": "b3ea1f38",
   "metadata": {},
   "source": [
    "### Dropping the missing rows"
   ]
  },
  {
   "cell_type": "code",
   "execution_count": 52,
   "id": "2d7d30bf",
   "metadata": {},
   "outputs": [],
   "source": [
    "df = df.dropna(axis=0)"
   ]
  },
  {
   "cell_type": "markdown",
   "id": "5c05416f",
   "metadata": {},
   "source": [
    "### Dropping the duplicate rows"
   ]
  },
  {
   "cell_type": "code",
   "execution_count": 53,
   "id": "97ee8016",
   "metadata": {},
   "outputs": [
    {
     "data": {
      "text/plain": [
       "2"
      ]
     },
     "execution_count": 53,
     "metadata": {},
     "output_type": "execute_result"
    }
   ],
   "source": [
    "df.duplicated().sum()"
   ]
  },
  {
   "cell_type": "code",
   "execution_count": 54,
   "id": "00a6fd1c",
   "metadata": {},
   "outputs": [],
   "source": [
    "df = df.drop_duplicates()"
   ]
  },
  {
   "cell_type": "markdown",
   "id": "a9ebaad4",
   "metadata": {},
   "source": [
    "### Visualization of distribution of age and feedback column"
   ]
  },
  {
   "cell_type": "code",
   "execution_count": 55,
   "id": "fb960736",
   "metadata": {},
   "outputs": [
    {
     "data": {
      "image/png": "[encoded data removed]",
      "text/plain": [
       "<Figure size 640x480 with 1 Axes>"
      ]
     },
     "metadata": {},
     "output_type": "display_data"
    },
    {
     "data": {
      "image/png": "[encoded data removed]",
      "text/plain": [
       "<Figure size 640x480 with 1 Axes>"
      ]
     },
     "metadata": {},
     "output_type": "display_data"
    }
   ],
   "source": [
    "columns = [\"Age\", \"Positive Feedback Count\"]\n",
    "\n",
    "for column in columns:\n",
    "    sns.histplot(x=df[column])\n",
    "    plt.title(f\"distribution of {column}\")\n",
    "    plt.xlim(df[column].min(), df[column].max())\n",
    "    plt.show()"
   ]
  },
  {
   "cell_type": "markdown",
   "id": "70e76052",
   "metadata": {},
   "source": [
    "#### Skew the columns"
   ]
  },
  {
   "cell_type": "code",
   "execution_count": 56,
   "id": "f566e623",
   "metadata": {},
   "outputs": [
    {
     "name": "stdout",
     "output_type": "stream",
     "text": [
      "Age: 0.5254714457914279\n",
      "Rating: -1.312480250916517\n",
      "Positive Feedback Count: 6.4708741835762\n"
     ]
    }
   ],
   "source": [
    "from scipy.stats import skew\n",
    "\n",
    "columns = [\"Age\", \"Rating\", \"Positive Feedback Count\"]\n",
    "\n",
    "for column in columns:\n",
    "    skewness = skew(df[column])\n",
    "    print(f\"{column}: {skewness}\")"
   ]
  },
  {
   "cell_type": "markdown",
   "id": "1d94f120",
   "metadata": {},
   "source": [
    "### Visulize the updated column of age and feedback"
   ]
  },
  {
   "cell_type": "code",
   "execution_count": 57,
   "id": "f99e4ee9",
   "metadata": {},
   "outputs": [
    {
     "data": {
      "image/png": "[encoded data removed]",
      "text/plain": [
       "<Figure size 640x480 with 1 Axes>"
      ]
     },
     "metadata": {},
     "output_type": "display_data"
    },
    {
     "data": {
      "image/png": "[encoded data removed]",
      "text/plain": [
       "<Figure size 640x480 with 1 Axes>"
      ]
     },
     "metadata": {},
     "output_type": "display_data"
    }
   ],
   "source": [
    "df[\"Positive Feedback Count\"] = df[\"Positive Feedback Count\"] + .000001\n",
    "\n",
    "columns = [\"Age\", \"Positive Feedback Count\"]\n",
    "\n",
    "for column in columns:\n",
    "    df[column] = np.log(df[column])\n",
    "    \n",
    "for column in columns:\n",
    "    sns.histplot(x=df[column])\n",
    "    plt.title(f\"distribution of {column}\")\n",
    "    plt.xlim(df[column].min(), df[column].max())\n",
    "    plt.show()"
   ]
  },
  {
   "cell_type": "markdown",
   "id": "0a12acf8",
   "metadata": {},
   "source": [
    "### Check the unique value in three columns 'Division Name', 'Department name' and 'Class Name'"
   ]
  },
  {
   "cell_type": "code",
   "execution_count": 58,
   "id": "f7911ee8",
   "metadata": {},
   "outputs": [
    {
     "name": "stdout",
     "output_type": "stream",
     "text": [
      "unique values in: Division Name: General           13849\n",
      "General Petite     8120\n",
      "Initmates          1501\n",
      "Name: Division Name, dtype: int64\n",
      "unique values in: Department Name: Tops        10468\n",
      "Dresses      6319\n",
      "Bottoms      3798\n",
      "Intimate     1734\n",
      "Jackets      1032\n",
      "Trend         119\n",
      "Name: Department Name, dtype: int64\n",
      "unique values in: Class Name: Dresses           6319\n",
      "Knits             4843\n",
      "Blouses           3097\n",
      "Sweaters          1428\n",
      "Pants             1388\n",
      "Jeans             1146\n",
      "Fine gauge        1100\n",
      "Skirts             945\n",
      "Jackets            704\n",
      "Lounge             691\n",
      "Swim               349\n",
      "Outerwear          328\n",
      "Shorts             317\n",
      "Sleep              228\n",
      "Legwear            165\n",
      "Intimates          154\n",
      "Layering           146\n",
      "Trend              119\n",
      "Casual bottoms       2\n",
      "Chemises             1\n",
      "Name: Class Name, dtype: int64\n"
     ]
    }
   ],
   "source": [
    "columns = [\"Division Name\", \"Department Name\", \"Class Name\"]\n",
    "\n",
    "for column in columns:\n",
    "    print(f\"unique values in: {column}: {df[column].value_counts()}\")"
   ]
  },
  {
   "cell_type": "markdown",
   "id": "dbc28cd4",
   "metadata": {},
   "source": [
    "### Label Encoding of Department name and division name"
   ]
  },
  {
   "cell_type": "code",
   "execution_count": 59,
   "id": "7b33cd50",
   "metadata": {},
   "outputs": [],
   "source": [
    "ohe_department_name = pd.get_dummies(df[\"Department Name\"])\n",
    "ohe_division_name = pd.get_dummies(df[\"Division Name\"])\n",
    "\n",
    "df = df.join(ohe_department_name).join(ohe_division_name)\n",
    "df = df.drop(columns=[\"Department Name\", \"Division Name\"])"
   ]
  },
  {
   "cell_type": "markdown",
   "id": "c99e3a17",
   "metadata": {},
   "source": [
    "### Binary Encoding applies to Class Name categorical variable"
   ]
  },
  {
   "cell_type": "code",
   "execution_count": 60,
   "id": "e7e26e91",
   "metadata": {},
   "outputs": [],
   "source": [
    "df = BinaryEncoder(cols = [\"Class Name\"], drop_invariant = True).fit_transform(df)"
   ]
  },
  {
   "cell_type": "code",
   "execution_count": 61,
   "id": "8a5ab1f0",
   "metadata": {},
   "outputs": [],
   "source": [
    "from sklearn.preprocessing import StandardScaler\n",
    "\n",
    "\n",
    "scaler = StandardScaler()\n",
    "\n",
    "columns = [\"Age\", \"Positive Feedback Count\"]\n",
    "\n",
    "for column in columns:\n",
    "    reshaped_column = np.array(df[column]).reshape(-1, 1)\n",
    "    df[column] = scaler.fit_transform(reshaped_column)"
   ]
  },
  {
   "cell_type": "code",
   "execution_count": 62,
   "id": "d2ff50e2",
   "metadata": {},
   "outputs": [
    {
     "data": {
      "text/html": [
       "<div>\n",
       "<style scoped>\n",
       "    .dataframe tbody tr th:only-of-type {\n",
       "        vertical-align: middle;\n",
       "    }\n",
       "\n",
       "    .dataframe tbody tr th {\n",
       "        vertical-align: top;\n",
       "    }\n",
       "\n",
       "    .dataframe thead th {\n",
       "        text-align: right;\n",
       "    }\n",
       "</style>\n",
       "<table border=\"1\" class=\"dataframe\">\n",
       "  <thead>\n",
       "    <tr style=\"text-align: right;\">\n",
       "      <th></th>\n",
       "      <th>Age</th>\n",
       "      <th>Rating</th>\n",
       "      <th>Recommended IND</th>\n",
       "      <th>Positive Feedback Count</th>\n",
       "      <th>Class Name_0</th>\n",
       "      <th>Class Name_1</th>\n",
       "      <th>Class Name_2</th>\n",
       "      <th>Class Name_3</th>\n",
       "      <th>Class Name_4</th>\n",
       "      <th>concat reviews</th>\n",
       "      <th>Bottoms</th>\n",
       "      <th>Dresses</th>\n",
       "      <th>Intimate</th>\n",
       "      <th>Jackets</th>\n",
       "      <th>Tops</th>\n",
       "      <th>Trend</th>\n",
       "      <th>General</th>\n",
       "      <th>General Petite</th>\n",
       "      <th>Initmates</th>\n",
       "    </tr>\n",
       "  </thead>\n",
       "  <tbody>\n",
       "    <tr>\n",
       "      <th>0</th>\n",
       "      <td>-0.798513</td>\n",
       "      <td>4</td>\n",
       "      <td>1</td>\n",
       "      <td>-1.045380</td>\n",
       "      <td>0</td>\n",
       "      <td>0</td>\n",
       "      <td>0</td>\n",
       "      <td>0</td>\n",
       "      <td>1</td>\n",
       "      <td>Absolutely wonderful - silky and sexy and comf...</td>\n",
       "      <td>0</td>\n",
       "      <td>0</td>\n",
       "      <td>1</td>\n",
       "      <td>0</td>\n",
       "      <td>0</td>\n",
       "      <td>0</td>\n",
       "      <td>0</td>\n",
       "      <td>0</td>\n",
       "      <td>1</td>\n",
       "    </tr>\n",
       "    <tr>\n",
       "      <th>1</th>\n",
       "      <td>-0.694367</td>\n",
       "      <td>5</td>\n",
       "      <td>1</td>\n",
       "      <td>0.995361</td>\n",
       "      <td>0</td>\n",
       "      <td>0</td>\n",
       "      <td>0</td>\n",
       "      <td>1</td>\n",
       "      <td>0</td>\n",
       "      <td>Love this dress!  it's sooo pretty.  i happene...</td>\n",
       "      <td>0</td>\n",
       "      <td>1</td>\n",
       "      <td>0</td>\n",
       "      <td>0</td>\n",
       "      <td>0</td>\n",
       "      <td>0</td>\n",
       "      <td>1</td>\n",
       "      <td>0</td>\n",
       "      <td>0</td>\n",
       "    </tr>\n",
       "    <tr>\n",
       "      <th>2</th>\n",
       "      <td>1.287114</td>\n",
       "      <td>3</td>\n",
       "      <td>0</td>\n",
       "      <td>-1.045380</td>\n",
       "      <td>0</td>\n",
       "      <td>0</td>\n",
       "      <td>0</td>\n",
       "      <td>1</td>\n",
       "      <td>0</td>\n",
       "      <td>Some major design flaws I had such high hopes ...</td>\n",
       "      <td>0</td>\n",
       "      <td>1</td>\n",
       "      <td>0</td>\n",
       "      <td>0</td>\n",
       "      <td>0</td>\n",
       "      <td>0</td>\n",
       "      <td>1</td>\n",
       "      <td>0</td>\n",
       "      <td>0</td>\n",
       "    </tr>\n",
       "    <tr>\n",
       "      <th>3</th>\n",
       "      <td>0.651063</td>\n",
       "      <td>5</td>\n",
       "      <td>1</td>\n",
       "      <td>-1.045380</td>\n",
       "      <td>0</td>\n",
       "      <td>0</td>\n",
       "      <td>0</td>\n",
       "      <td>1</td>\n",
       "      <td>1</td>\n",
       "      <td>My favorite buy! I love, love, love this jumps...</td>\n",
       "      <td>1</td>\n",
       "      <td>0</td>\n",
       "      <td>0</td>\n",
       "      <td>0</td>\n",
       "      <td>0</td>\n",
       "      <td>0</td>\n",
       "      <td>0</td>\n",
       "      <td>1</td>\n",
       "      <td>0</td>\n",
       "    </tr>\n",
       "    <tr>\n",
       "      <th>4</th>\n",
       "      <td>0.435203</td>\n",
       "      <td>5</td>\n",
       "      <td>1</td>\n",
       "      <td>1.049792</td>\n",
       "      <td>0</td>\n",
       "      <td>0</td>\n",
       "      <td>1</td>\n",
       "      <td>0</td>\n",
       "      <td>0</td>\n",
       "      <td>Flattering shirt This shirt is very flattering...</td>\n",
       "      <td>0</td>\n",
       "      <td>0</td>\n",
       "      <td>0</td>\n",
       "      <td>0</td>\n",
       "      <td>1</td>\n",
       "      <td>0</td>\n",
       "      <td>1</td>\n",
       "      <td>0</td>\n",
       "      <td>0</td>\n",
       "    </tr>\n",
       "  </tbody>\n",
       "</table>\n",
       "</div>"
      ],
      "text/plain": [
       "        Age  Rating  Recommended IND  Positive Feedback Count  Class Name_0  \\\n",
       "0 -0.798513       4                1                -1.045380             0   \n",
       "1 -0.694367       5                1                 0.995361             0   \n",
       "2  1.287114       3                0                -1.045380             0   \n",
       "3  0.651063       5                1                -1.045380             0   \n",
       "4  0.435203       5                1                 1.049792             0   \n",
       "\n",
       "   Class Name_1  Class Name_2  Class Name_3  Class Name_4  \\\n",
       "0             0             0             0             1   \n",
       "1             0             0             1             0   \n",
       "2             0             0             1             0   \n",
       "3             0             0             1             1   \n",
       "4             0             1             0             0   \n",
       "\n",
       "                                      concat reviews  Bottoms  Dresses  \\\n",
       "0  Absolutely wonderful - silky and sexy and comf...        0        0   \n",
       "1  Love this dress!  it's sooo pretty.  i happene...        0        1   \n",
       "2  Some major design flaws I had such high hopes ...        0        1   \n",
       "3  My favorite buy! I love, love, love this jumps...        1        0   \n",
       "4  Flattering shirt This shirt is very flattering...        0        0   \n",
       "\n",
       "   Intimate  Jackets  Tops  Trend  General  General Petite  Initmates  \n",
       "0         1        0     0      0        0               0          1  \n",
       "1         0        0     0      0        1               0          0  \n",
       "2         0        0     0      0        1               0          0  \n",
       "3         0        0     0      0        0               1          0  \n",
       "4         0        0     1      0        1               0          0  "
      ]
     },
     "execution_count": 62,
     "metadata": {},
     "output_type": "execute_result"
    }
   ],
   "source": [
    "df.head()"
   ]
  },
  {
   "cell_type": "markdown",
   "id": "6051c6e9",
   "metadata": {},
   "source": [
    "## Preprocessing of Text"
   ]
  },
  {
   "cell_type": "markdown",
   "id": "027c04d4",
   "metadata": {},
   "source": [
    "#### Removing HTML tags"
   ]
  },
  {
   "cell_type": "code",
   "execution_count": 63,
   "id": "326d5285",
   "metadata": {},
   "outputs": [],
   "source": [
    "from bs4 import BeautifulSoup\n",
    "\n",
    "\n",
    "def remove_html(text):\n",
    "    \"\"\"Removes html tags from reviews.\"\"\"\n",
    "    soup = BeautifulSoup(text, \"lxml\")\n",
    "    stripped_text = soup.get_text()\n",
    "    return stripped_text"
   ]
  },
  {
   "cell_type": "markdown",
   "id": "7abc567e",
   "metadata": {},
   "source": [
    "#### Removing Punctuation"
   ]
  },
  {
   "cell_type": "code",
   "execution_count": 64,
   "id": "fae0e698",
   "metadata": {},
   "outputs": [],
   "source": [
    "import string\n",
    "\n",
    "\n",
    "def remove_punctuation(text):\n",
    "    \"\"\"Removes punctuation from reviews.\"\"\"\n",
    "    no_punct_text = \"\".join([char for char in text if char not in string.punctuation])\n",
    "    return no_punct_text"
   ]
  },
  {
   "cell_type": "markdown",
   "id": "09784beb",
   "metadata": {},
   "source": [
    "#### tokenizing data"
   ]
  },
  {
   "cell_type": "code",
   "execution_count": 65,
   "id": "2818fc48",
   "metadata": {},
   "outputs": [],
   "source": [
    "import nltk\n",
    "from nltk.tokenize import RegexpTokenizer\n",
    "\n",
    "\n",
    "# creates an array of tokens from each word in the review\n",
    "tokenizer = RegexpTokenizer(r\"\\w+\")"
   ]
  },
  {
   "cell_type": "markdown",
   "id": "0466ffa9",
   "metadata": {},
   "source": [
    "#### Removing stopwords"
   ]
  },
  {
   "cell_type": "code",
   "execution_count": 66,
   "id": "590a8386",
   "metadata": {},
   "outputs": [
    {
     "name": "stderr",
     "output_type": "stream",
     "text": [
      "[nltk_data] Downloading package stopwords to\n",
      "[nltk_data]     C:\\Users\\junai\\AppData\\Roaming\\nltk_data...\n",
      "[nltk_data]   Package stopwords is already up-to-date!\n"
     ]
    }
   ],
   "source": [
    "nltk.download('stopwords')\n",
    "from nltk.corpus import stopwords\n",
    "\n",
    "\n",
    "def remove_stopwords(text):\n",
    "    \"\"\"Removes stopwords from an array of tokens.\"\"\"\n",
    "    words = [word for word in text if word not in stopwords.words(\"english\")]\n",
    "    return words"
   ]
  },
  {
   "cell_type": "markdown",
   "id": "2c5d7db6",
   "metadata": {},
   "source": [
    "#### Applying lemmatization, using spacy "
   ]
  },
  {
   "cell_type": "code",
   "execution_count": 67,
   "id": "50a32911",
   "metadata": {},
   "outputs": [],
   "source": [
    "import spacy\n",
    "\n",
    "\n",
    "lemmatizer = spacy.load('en_core_web_sm', disable = ['parser','ner'])\n",
    "\n",
    "def lemmatize_text(text):\n",
    "    \"\"\"Lemmatizes, or gets the stems of an array of tokens.\"\"\"\n",
    "    text = \" \".join(text)\n",
    "    text = lemmatizer(text)\n",
    "    lemmatized_text = (\" \".join([token.lemma_ for token in text]))\n",
    "    return lemmatized_text"
   ]
  },
  {
   "cell_type": "markdown",
   "id": "5b14b8be",
   "metadata": {},
   "source": [
    "### Applying preprocessing function to review column"
   ]
  },
  {
   "cell_type": "code",
   "execution_count": 68,
   "id": "b96d2ba5",
   "metadata": {},
   "outputs": [],
   "source": [
    "def preprocess_text(text):\n",
    "    \"\"\"Returns preprocessed text for NLP.\"\"\"\n",
    "    text = text.apply(lambda review: remove_html(review))\n",
    "    text = text.apply(lambda review: remove_punctuation(review))\n",
    "    text = text.apply(lambda review: tokenizer.tokenize(review.lower()))\n",
    "    text = text.apply(lambda review: remove_stopwords(review))\n",
    "    text = text.apply(lambda review: lemmatize_text(review))\n",
    "    return text\n",
    "\n",
    "df[\"preprocessed_reviews\"] = preprocess_text(df[\"concat reviews\"])"
   ]
  },
  {
   "cell_type": "code",
   "execution_count": 69,
   "id": "196788d9",
   "metadata": {},
   "outputs": [
    {
     "data": {
      "text/html": [
       "<div>\n",
       "<style scoped>\n",
       "    .dataframe tbody tr th:only-of-type {\n",
       "        vertical-align: middle;\n",
       "    }\n",
       "\n",
       "    .dataframe tbody tr th {\n",
       "        vertical-align: top;\n",
       "    }\n",
       "\n",
       "    .dataframe thead th {\n",
       "        text-align: right;\n",
       "    }\n",
       "</style>\n",
       "<table border=\"1\" class=\"dataframe\">\n",
       "  <thead>\n",
       "    <tr style=\"text-align: right;\">\n",
       "      <th></th>\n",
       "      <th>Age</th>\n",
       "      <th>Rating</th>\n",
       "      <th>Recommended IND</th>\n",
       "      <th>Positive Feedback Count</th>\n",
       "      <th>Class Name_0</th>\n",
       "      <th>Class Name_1</th>\n",
       "      <th>Class Name_2</th>\n",
       "      <th>Class Name_3</th>\n",
       "      <th>Class Name_4</th>\n",
       "      <th>concat reviews</th>\n",
       "      <th>Bottoms</th>\n",
       "      <th>Dresses</th>\n",
       "      <th>Intimate</th>\n",
       "      <th>Jackets</th>\n",
       "      <th>Tops</th>\n",
       "      <th>Trend</th>\n",
       "      <th>General</th>\n",
       "      <th>General Petite</th>\n",
       "      <th>Initmates</th>\n",
       "      <th>preprocessed_reviews</th>\n",
       "    </tr>\n",
       "  </thead>\n",
       "  <tbody>\n",
       "    <tr>\n",
       "      <th>0</th>\n",
       "      <td>-0.798513</td>\n",
       "      <td>4</td>\n",
       "      <td>1</td>\n",
       "      <td>-1.045380</td>\n",
       "      <td>0</td>\n",
       "      <td>0</td>\n",
       "      <td>0</td>\n",
       "      <td>0</td>\n",
       "      <td>1</td>\n",
       "      <td>Absolutely wonderful - silky and sexy and comf...</td>\n",
       "      <td>0</td>\n",
       "      <td>0</td>\n",
       "      <td>1</td>\n",
       "      <td>0</td>\n",
       "      <td>0</td>\n",
       "      <td>0</td>\n",
       "      <td>0</td>\n",
       "      <td>0</td>\n",
       "      <td>1</td>\n",
       "      <td>absolutely wonderful silky sexy comfortable</td>\n",
       "    </tr>\n",
       "    <tr>\n",
       "      <th>1</th>\n",
       "      <td>-0.694367</td>\n",
       "      <td>5</td>\n",
       "      <td>1</td>\n",
       "      <td>0.995361</td>\n",
       "      <td>0</td>\n",
       "      <td>0</td>\n",
       "      <td>0</td>\n",
       "      <td>1</td>\n",
       "      <td>0</td>\n",
       "      <td>Love this dress!  it's sooo pretty.  i happene...</td>\n",
       "      <td>0</td>\n",
       "      <td>1</td>\n",
       "      <td>0</td>\n",
       "      <td>0</td>\n",
       "      <td>0</td>\n",
       "      <td>0</td>\n",
       "      <td>1</td>\n",
       "      <td>0</td>\n",
       "      <td>0</td>\n",
       "      <td>love dress sooo pretty happen find store I m g...</td>\n",
       "    </tr>\n",
       "    <tr>\n",
       "      <th>2</th>\n",
       "      <td>1.287114</td>\n",
       "      <td>3</td>\n",
       "      <td>0</td>\n",
       "      <td>-1.045380</td>\n",
       "      <td>0</td>\n",
       "      <td>0</td>\n",
       "      <td>0</td>\n",
       "      <td>1</td>\n",
       "      <td>0</td>\n",
       "      <td>Some major design flaws I had such high hopes ...</td>\n",
       "      <td>0</td>\n",
       "      <td>1</td>\n",
       "      <td>0</td>\n",
       "      <td>0</td>\n",
       "      <td>0</td>\n",
       "      <td>0</td>\n",
       "      <td>1</td>\n",
       "      <td>0</td>\n",
       "      <td>0</td>\n",
       "      <td>major design flaw high hope dress really want ...</td>\n",
       "    </tr>\n",
       "    <tr>\n",
       "      <th>3</th>\n",
       "      <td>0.651063</td>\n",
       "      <td>5</td>\n",
       "      <td>1</td>\n",
       "      <td>-1.045380</td>\n",
       "      <td>0</td>\n",
       "      <td>0</td>\n",
       "      <td>0</td>\n",
       "      <td>1</td>\n",
       "      <td>1</td>\n",
       "      <td>My favorite buy! I love, love, love this jumps...</td>\n",
       "      <td>1</td>\n",
       "      <td>0</td>\n",
       "      <td>0</td>\n",
       "      <td>0</td>\n",
       "      <td>0</td>\n",
       "      <td>0</td>\n",
       "      <td>0</td>\n",
       "      <td>1</td>\n",
       "      <td>0</td>\n",
       "      <td>favorite buy love love love jumpsuit fun flirt...</td>\n",
       "    </tr>\n",
       "    <tr>\n",
       "      <th>4</th>\n",
       "      <td>0.435203</td>\n",
       "      <td>5</td>\n",
       "      <td>1</td>\n",
       "      <td>1.049792</td>\n",
       "      <td>0</td>\n",
       "      <td>0</td>\n",
       "      <td>1</td>\n",
       "      <td>0</td>\n",
       "      <td>0</td>\n",
       "      <td>Flattering shirt This shirt is very flattering...</td>\n",
       "      <td>0</td>\n",
       "      <td>0</td>\n",
       "      <td>0</td>\n",
       "      <td>0</td>\n",
       "      <td>1</td>\n",
       "      <td>0</td>\n",
       "      <td>1</td>\n",
       "      <td>0</td>\n",
       "      <td>0</td>\n",
       "      <td>flatter shirt shirt flatter due adjustable fro...</td>\n",
       "    </tr>\n",
       "  </tbody>\n",
       "</table>\n",
       "</div>"
      ],
      "text/plain": [
       "        Age  Rating  Recommended IND  Positive Feedback Count  Class Name_0  \\\n",
       "0 -0.798513       4                1                -1.045380             0   \n",
       "1 -0.694367       5                1                 0.995361             0   \n",
       "2  1.287114       3                0                -1.045380             0   \n",
       "3  0.651063       5                1                -1.045380             0   \n",
       "4  0.435203       5                1                 1.049792             0   \n",
       "\n",
       "   Class Name_1  Class Name_2  Class Name_3  Class Name_4  \\\n",
       "0             0             0             0             1   \n",
       "1             0             0             1             0   \n",
       "2             0             0             1             0   \n",
       "3             0             0             1             1   \n",
       "4             0             1             0             0   \n",
       "\n",
       "                                      concat reviews  Bottoms  Dresses  \\\n",
       "0  Absolutely wonderful - silky and sexy and comf...        0        0   \n",
       "1  Love this dress!  it's sooo pretty.  i happene...        0        1   \n",
       "2  Some major design flaws I had such high hopes ...        0        1   \n",
       "3  My favorite buy! I love, love, love this jumps...        1        0   \n",
       "4  Flattering shirt This shirt is very flattering...        0        0   \n",
       "\n",
       "   Intimate  Jackets  Tops  Trend  General  General Petite  Initmates  \\\n",
       "0         1        0     0      0        0               0          1   \n",
       "1         0        0     0      0        1               0          0   \n",
       "2         0        0     0      0        1               0          0   \n",
       "3         0        0     0      0        0               1          0   \n",
       "4         0        0     1      0        1               0          0   \n",
       "\n",
       "                                preprocessed_reviews  \n",
       "0        absolutely wonderful silky sexy comfortable  \n",
       "1  love dress sooo pretty happen find store I m g...  \n",
       "2  major design flaw high hope dress really want ...  \n",
       "3  favorite buy love love love jumpsuit fun flirt...  \n",
       "4  flatter shirt shirt flatter due adjustable fro...  "
      ]
     },
     "execution_count": 69,
     "metadata": {},
     "output_type": "execute_result"
    }
   ],
   "source": [
    "df.head()"
   ]
  },
  {
   "cell_type": "markdown",
   "id": "c3259d1e",
   "metadata": {},
   "source": [
    "### Dropping concat review column making new columns"
   ]
  },
  {
   "cell_type": "code",
   "execution_count": 70,
   "id": "9acc499c",
   "metadata": {},
   "outputs": [],
   "source": [
    "df = df.drop(columns=[\"concat reviews\"])"
   ]
  },
  {
   "cell_type": "markdown",
   "id": "e118f469",
   "metadata": {},
   "source": [
    "#### Use text blob library to calculate polarity of sentiment"
   ]
  },
  {
   "cell_type": "code",
   "execution_count": 71,
   "id": "7d060e2f",
   "metadata": {},
   "outputs": [],
   "source": [
    "from textblob import TextBlob \n",
    "from textblob.en import subjectivity\n",
    "def get_sentiment(review):\n",
    "    \"\"\"Returns a sentiment category and a strength of sentiment from -1 to 1.\"\"\"\n",
    "    sentiment_analysis = TextBlob(review)\n",
    "    sentiment_polarity = sentiment_analysis.sentiment.polarity, \n",
    "    sentiment_subjectivity = sentiment_analysis.sentiment.subjectivity\n",
    "    return sentiment_polarity, sentiment_subjectivity\n",
    "\n",
    "df[\"polarity\"] = df[\"preprocessed_reviews\"].apply(lambda x: get_sentiment(x)[0][0])"
   ]
  },
  {
   "cell_type": "markdown",
   "id": "e6b983cb",
   "metadata": {},
   "source": [
    "### Visualization of distribution of polarity"
   ]
  },
  {
   "cell_type": "code",
   "execution_count": 72,
   "id": "c99f1c3d",
   "metadata": {},
   "outputs": [
    {
     "data": {
      "image/png": "[encoded data removed]",
      "text/plain": [
       "<Figure size 640x480 with 1 Axes>"
      ]
     },
     "metadata": {},
     "output_type": "display_data"
    }
   ],
   "source": [
    "sns.histplot(df[\"polarity\"])\n",
    "plt.title(f\"distribution of review polarity\")\n",
    "plt.xlim(df[\"polarity\"].min(), df[\"polarity\"].max())\n",
    "plt.show()"
   ]
  },
  {
   "cell_type": "markdown",
   "id": "19ae2f63",
   "metadata": {},
   "source": [
    "#### Calculating sentiment of Reviews Using Text blob"
   ]
  },
  {
   "cell_type": "code",
   "execution_count": 73,
   "id": "319a12da",
   "metadata": {},
   "outputs": [
    {
     "name": "stdout",
     "output_type": "stream",
     "text": [
      "<class 'list'>\n",
      "<class 'pandas.core.frame.DataFrame'>\n"
     ]
    }
   ],
   "source": [
    "\n",
    "\n",
    "sentiment_scores_tb = [round(TextBlob(str(new)).sentiment.polarity, 3) for new in df.preprocessed_reviews]\n",
    "sentiment_category_tb = ['positive' if score > 0 \n",
    "                             else 'negative' if score < 0 \n",
    "                                 else 'neutral' \n",
    "                                     for score in sentiment_scores_tb]\n",
    "print (type(sentiment_category_tb))\n",
    "senti=pd.DataFrame(sentiment_category_tb)\n",
    "print (type(senti))\n",
    "df['sentiment']=senti\n",
    "df.dropna(inplace=True)\n"
   ]
  },
  {
   "cell_type": "markdown",
   "id": "38d9d601",
   "metadata": {},
   "source": [
    "### Label encoding the new categorcal column \"Sentiment\""
   ]
  },
  {
   "cell_type": "code",
   "execution_count": 74,
   "id": "4150dc8b",
   "metadata": {},
   "outputs": [],
   "source": [
    "from sklearn.preprocessing import LabelEncoder\n",
    "\n",
    "# Create a label encoder object\n",
    "le = LabelEncoder()\n",
    "\n",
    "# Fit the encoder to the column data\n",
    "le.fit(df['sentiment'])\n",
    "\n",
    "# Transform the column using the fitted encoder\n",
    "encoded_column = le.transform(df['sentiment'])"
   ]
  },
  {
   "cell_type": "code",
   "execution_count": 75,
   "id": "30400726",
   "metadata": {},
   "outputs": [],
   "source": [
    "df['sentiment encode']=encoded_column"
   ]
  },
  {
   "cell_type": "code",
   "execution_count": 76,
   "id": "d41a24f0",
   "metadata": {},
   "outputs": [
    {
     "data": {
      "text/html": [
       "<div>\n",
       "<style scoped>\n",
       "    .dataframe tbody tr th:only-of-type {\n",
       "        vertical-align: middle;\n",
       "    }\n",
       "\n",
       "    .dataframe tbody tr th {\n",
       "        vertical-align: top;\n",
       "    }\n",
       "\n",
       "    .dataframe thead th {\n",
       "        text-align: right;\n",
       "    }\n",
       "</style>\n",
       "<table border=\"1\" class=\"dataframe\">\n",
       "  <thead>\n",
       "    <tr style=\"text-align: right;\">\n",
       "      <th></th>\n",
       "      <th>Age</th>\n",
       "      <th>Rating</th>\n",
       "      <th>Recommended IND</th>\n",
       "      <th>Positive Feedback Count</th>\n",
       "      <th>Class Name_0</th>\n",
       "      <th>Class Name_1</th>\n",
       "      <th>Class Name_2</th>\n",
       "      <th>Class Name_3</th>\n",
       "      <th>Class Name_4</th>\n",
       "      <th>Bottoms</th>\n",
       "      <th>...</th>\n",
       "      <th>Jackets</th>\n",
       "      <th>Tops</th>\n",
       "      <th>Trend</th>\n",
       "      <th>General</th>\n",
       "      <th>General Petite</th>\n",
       "      <th>Initmates</th>\n",
       "      <th>preprocessed_reviews</th>\n",
       "      <th>polarity</th>\n",
       "      <th>sentiment</th>\n",
       "      <th>sentiment encode</th>\n",
       "    </tr>\n",
       "  </thead>\n",
       "  <tbody>\n",
       "    <tr>\n",
       "      <th>0</th>\n",
       "      <td>-0.798513</td>\n",
       "      <td>4</td>\n",
       "      <td>1</td>\n",
       "      <td>-1.045380</td>\n",
       "      <td>0</td>\n",
       "      <td>0</td>\n",
       "      <td>0</td>\n",
       "      <td>0</td>\n",
       "      <td>1</td>\n",
       "      <td>0</td>\n",
       "      <td>...</td>\n",
       "      <td>0</td>\n",
       "      <td>0</td>\n",
       "      <td>0</td>\n",
       "      <td>0</td>\n",
       "      <td>0</td>\n",
       "      <td>1</td>\n",
       "      <td>absolutely wonderful silky sexy comfortable</td>\n",
       "      <td>0.633333</td>\n",
       "      <td>positive</td>\n",
       "      <td>2</td>\n",
       "    </tr>\n",
       "    <tr>\n",
       "      <th>1</th>\n",
       "      <td>-0.694367</td>\n",
       "      <td>5</td>\n",
       "      <td>1</td>\n",
       "      <td>0.995361</td>\n",
       "      <td>0</td>\n",
       "      <td>0</td>\n",
       "      <td>0</td>\n",
       "      <td>1</td>\n",
       "      <td>0</td>\n",
       "      <td>0</td>\n",
       "      <td>...</td>\n",
       "      <td>0</td>\n",
       "      <td>0</td>\n",
       "      <td>0</td>\n",
       "      <td>1</td>\n",
       "      <td>0</td>\n",
       "      <td>0</td>\n",
       "      <td>love dress sooo pretty happen find store I m g...</td>\n",
       "      <td>0.318750</td>\n",
       "      <td>positive</td>\n",
       "      <td>2</td>\n",
       "    </tr>\n",
       "    <tr>\n",
       "      <th>2</th>\n",
       "      <td>1.287114</td>\n",
       "      <td>3</td>\n",
       "      <td>0</td>\n",
       "      <td>-1.045380</td>\n",
       "      <td>0</td>\n",
       "      <td>0</td>\n",
       "      <td>0</td>\n",
       "      <td>1</td>\n",
       "      <td>0</td>\n",
       "      <td>0</td>\n",
       "      <td>...</td>\n",
       "      <td>0</td>\n",
       "      <td>0</td>\n",
       "      <td>0</td>\n",
       "      <td>1</td>\n",
       "      <td>0</td>\n",
       "      <td>0</td>\n",
       "      <td>major design flaw high hope dress really want ...</td>\n",
       "      <td>0.081439</td>\n",
       "      <td>positive</td>\n",
       "      <td>2</td>\n",
       "    </tr>\n",
       "    <tr>\n",
       "      <th>3</th>\n",
       "      <td>0.651063</td>\n",
       "      <td>5</td>\n",
       "      <td>1</td>\n",
       "      <td>-1.045380</td>\n",
       "      <td>0</td>\n",
       "      <td>0</td>\n",
       "      <td>0</td>\n",
       "      <td>1</td>\n",
       "      <td>1</td>\n",
       "      <td>1</td>\n",
       "      <td>...</td>\n",
       "      <td>0</td>\n",
       "      <td>0</td>\n",
       "      <td>0</td>\n",
       "      <td>0</td>\n",
       "      <td>1</td>\n",
       "      <td>0</td>\n",
       "      <td>favorite buy love love love jumpsuit fun flirt...</td>\n",
       "      <td>0.500000</td>\n",
       "      <td>positive</td>\n",
       "      <td>2</td>\n",
       "    </tr>\n",
       "    <tr>\n",
       "      <th>4</th>\n",
       "      <td>0.435203</td>\n",
       "      <td>5</td>\n",
       "      <td>1</td>\n",
       "      <td>1.049792</td>\n",
       "      <td>0</td>\n",
       "      <td>0</td>\n",
       "      <td>1</td>\n",
       "      <td>0</td>\n",
       "      <td>0</td>\n",
       "      <td>0</td>\n",
       "      <td>...</td>\n",
       "      <td>0</td>\n",
       "      <td>1</td>\n",
       "      <td>0</td>\n",
       "      <td>1</td>\n",
       "      <td>0</td>\n",
       "      <td>0</td>\n",
       "      <td>flatter shirt shirt flatter due adjustable fro...</td>\n",
       "      <td>0.458333</td>\n",
       "      <td>positive</td>\n",
       "      <td>2</td>\n",
       "    </tr>\n",
       "  </tbody>\n",
       "</table>\n",
       "<p>5 rows × 22 columns</p>\n",
       "</div>"
      ],
      "text/plain": [
       "        Age  Rating  Recommended IND  Positive Feedback Count  Class Name_0  \\\n",
       "0 -0.798513       4                1                -1.045380             0   \n",
       "1 -0.694367       5                1                 0.995361             0   \n",
       "2  1.287114       3                0                -1.045380             0   \n",
       "3  0.651063       5                1                -1.045380             0   \n",
       "4  0.435203       5                1                 1.049792             0   \n",
       "\n",
       "   Class Name_1  Class Name_2  Class Name_3  Class Name_4  Bottoms  ...  \\\n",
       "0             0             0             0             1        0  ...   \n",
       "1             0             0             1             0        0  ...   \n",
       "2             0             0             1             0        0  ...   \n",
       "3             0             0             1             1        1  ...   \n",
       "4             0             1             0             0        0  ...   \n",
       "\n",
       "   Jackets  Tops  Trend  General  General Petite  Initmates  \\\n",
       "0        0     0      0        0               0          1   \n",
       "1        0     0      0        1               0          0   \n",
       "2        0     0      0        1               0          0   \n",
       "3        0     0      0        0               1          0   \n",
       "4        0     1      0        1               0          0   \n",
       "\n",
       "                                preprocessed_reviews  polarity sentiment  \\\n",
       "0        absolutely wonderful silky sexy comfortable  0.633333  positive   \n",
       "1  love dress sooo pretty happen find store I m g...  0.318750  positive   \n",
       "2  major design flaw high hope dress really want ...  0.081439  positive   \n",
       "3  favorite buy love love love jumpsuit fun flirt...  0.500000  positive   \n",
       "4  flatter shirt shirt flatter due adjustable fro...  0.458333  positive   \n",
       "\n",
       "   sentiment encode  \n",
       "0                 2  \n",
       "1                 2  \n",
       "2                 2  \n",
       "3                 2  \n",
       "4                 2  \n",
       "\n",
       "[5 rows x 22 columns]"
      ]
     },
     "execution_count": 76,
     "metadata": {},
     "output_type": "execute_result"
    }
   ],
   "source": [
    "df.head()"
   ]
  },
  {
   "cell_type": "markdown",
   "id": "674c093a",
   "metadata": {},
   "source": [
    "### Machine Learning"
   ]
  },
  {
   "cell_type": "code",
   "execution_count": 77,
   "id": "dba5e4a3",
   "metadata": {},
   "outputs": [],
   "source": [
    "X, y = df.drop(columns=[\"Rating\",\"sentiment encode\",\"sentiment\",\"preprocessed_reviews\"]), df[\"sentiment encode\"]"
   ]
  },
  {
   "cell_type": "code",
   "execution_count": 78,
   "id": "c983ffcc",
   "metadata": {},
   "outputs": [
    {
     "data": {
      "text/plain": [
       "(23454,)"
      ]
     },
     "execution_count": 78,
     "metadata": {},
     "output_type": "execute_result"
    }
   ],
   "source": [
    "y.shape"
   ]
  },
  {
   "cell_type": "markdown",
   "id": "647950cb",
   "metadata": {},
   "source": [
    "### Spliting the data into train and test split"
   ]
  },
  {
   "cell_type": "code",
   "execution_count": 79,
   "id": "87dbc449",
   "metadata": {},
   "outputs": [],
   "source": [
    "from sklearn.model_selection import train_test_split\n",
    "\n",
    "\n",
    "X_train, X_test, y_train, y_test = train_test_split(X, y, test_size=0.33, random_state=42)"
   ]
  },
  {
   "cell_type": "code",
   "execution_count": 80,
   "id": "1c20fceb",
   "metadata": {},
   "outputs": [
    {
     "data": {
      "text/plain": [
       "(15714,)"
      ]
     },
     "execution_count": 80,
     "metadata": {},
     "output_type": "execute_result"
    }
   ],
   "source": [
    "y_train.shape"
   ]
  },
  {
   "cell_type": "markdown",
   "id": "e5693b32",
   "metadata": {},
   "source": [
    "### Modeling the five classifier of Machine Learning "
   ]
  },
  {
   "cell_type": "code",
   "execution_count": 81,
   "id": "e80e6fd7",
   "metadata": {},
   "outputs": [
    {
     "name": "stdout",
     "output_type": "stream",
     "text": [
      "Accuracy of Decision Tree Classifier:  0.9109819121447028\n",
      "Accuracy of K Nearest Neighbors Classifier:  0.9401808785529716\n",
      "Accuracy of Naive Bayes Classifier:  0.18152454780361757\n",
      "Accuracy of Logistic Regression Classifier:  0.9421188630490956\n",
      "Accuracy of Random Forest Classifier:  0.9404392764857881\n"
     ]
    },
    {
     "data": {
      "image/png": "[encoded data removed]",
      "text/plain": [
       "<Figure size 800x1000 with 2 Axes>"
      ]
     },
     "metadata": {},
     "output_type": "display_data"
    }
   ],
   "source": [
    "# Import required libraries\n",
    "\n",
    "\n",
    "# Initialize the classifiers\n",
    "clf1 = DecisionTreeClassifier()\n",
    "clf2 = KNeighborsClassifier()\n",
    "clf3 = GaussianNB()\n",
    "clf4 = LogisticRegression()\n",
    "clf5 = RandomForestClassifier()\n",
    "\n",
    "# Train the classifiers\n",
    "clf1.fit(X_train, y_train)\n",
    "clf2.fit(X_train, y_train)\n",
    "clf3.fit(X_train, y_train)\n",
    "clf4.fit(X_train, y_train)\n",
    "clf5.fit(X_train, y_train)\n",
    "\n",
    "# Make predictions on the test set\n",
    "y_pred1 = clf1.predict(X_test)\n",
    "y_pred2 = clf2.predict(X_test)\n",
    "y_pred3 = clf3.predict(X_test)\n",
    "y_pred4 = clf4.predict(X_test)\n",
    "y_pred5 = clf5.predict(X_test)\n",
    "\n",
    "# Calculate accuracy and loss of each classifier\n",
    "acc_scores = [accuracy_score(y_test, y_pred1), accuracy_score(y_test, y_pred2),\n",
    "              accuracy_score(y_test, y_pred3), accuracy_score(y_test, y_pred4),\n",
    "              accuracy_score(y_test, y_pred5)]\n",
    "\n",
    "loss_scores = [log_loss(y_test, clf1.predict_proba(X_test)), log_loss(y_test, clf2.predict_proba(X_test)),\n",
    "               log_loss(y_test, clf3.predict_proba(X_test)), log_loss(y_test, clf4.predict_proba(X_test)),\n",
    "               log_loss(y_test, clf5.predict_proba(X_test))]\n",
    "\n",
    "print(\"Accuracy of Decision Tree Classifier: \", accuracy_score(y_test, y_pred1))\n",
    "print(\"Accuracy of K Nearest Neighbors Classifier: \", accuracy_score(y_test, y_pred2))\n",
    "print(\"Accuracy of Naive Bayes Classifier: \", accuracy_score(y_test, y_pred3))\n",
    "print(\"Accuracy of Logistic Regression Classifier: \", accuracy_score(y_test, y_pred4))\n",
    "print(\"Accuracy of Random Forest Classifier: \", accuracy_score(y_test, y_pred5))\n",
    "# Create a plot\n",
    "fig, axs = plt.subplots(2, figsize=(8, 10))\n",
    "\n",
    "axs[0].bar(range(len(acc_scores)), acc_scores)\n",
    "axs[0].set_xticks(range(len(acc_scores)))\n",
    "axs[0].set_xticklabels(['Decision Tree', 'KNN', 'Naive Bayes', 'Logistic Regression', 'Random Forest'])\n",
    "axs[0].set_ylabel('Accuracy')\n",
    "axs[0].set_title('Accuracy of Classifiers')\n",
    "\n",
    "axs[1].bar(range(len(loss_scores)), loss_scores)\n",
    "axs[1].set_xticks(range(len(loss_scores)))\n",
    "axs[1].set_xticklabels(['Decision Tree', 'KNN', 'Naive Bayes', 'Logistic Regression', 'Random Forest'])\n",
    "axs[1].set_ylabel('Log Loss')\n",
    "axs[1].set_title('Log Loss of Classifiers')\n",
    "\n",
    "plt.show()\n"
   ]
  },
  {
   "cell_type": "code",
   "execution_count": 94,
   "id": "813bfb1b",
   "metadata": {},
   "outputs": [
    {
     "data": {
      "text/plain": [
       "(15714,)"
      ]
     },
     "execution_count": 94,
     "metadata": {},
     "output_type": "execute_result"
    }
   ],
   "source": [
    "y_train.shape"
   ]
  },
  {
   "cell_type": "code",
   "execution_count": 86,
   "id": "67e5c6bf",
   "metadata": {},
   "outputs": [
    {
     "name": "stdout",
     "output_type": "stream",
     "text": [
      "Epoch 1/20\n",
      "393/393 [==============================] - 9s 15ms/step - loss: 0.3696 - accuracy: 0.0179 - val_loss: 0.4541 - val_accuracy: 0.1094\n",
      "Epoch 2/20\n",
      "393/393 [==============================] - 6s 14ms/step - loss: 0.2289 - accuracy: 0.0193 - val_loss: 0.1953 - val_accuracy: 0.0000e+00\n",
      "Epoch 3/20\n",
      "393/393 [==============================] - 6s 14ms/step - loss: 0.2133 - accuracy: 0.0159 - val_loss: 0.2141 - val_accuracy: 3.1817e-04\n",
      "Epoch 4/20\n",
      "393/393 [==============================] - 6s 16ms/step - loss: 0.2094 - accuracy: 0.0162 - val_loss: 0.1936 - val_accuracy: 0.0350\n",
      "Epoch 5/20\n",
      "393/393 [==============================] - 6s 14ms/step - loss: 0.2059 - accuracy: 0.0195 - val_loss: 0.1922 - val_accuracy: 3.1817e-04\n",
      "Epoch 6/20\n",
      "393/393 [==============================] - 6s 14ms/step - loss: 0.2023 - accuracy: 0.0167 - val_loss: 0.1993 - val_accuracy: 0.0019\n",
      "Epoch 7/20\n",
      "393/393 [==============================] - 6s 14ms/step - loss: 0.1998 - accuracy: 0.0180 - val_loss: 0.1861 - val_accuracy: 6.3633e-04\n",
      "Epoch 8/20\n",
      "393/393 [==============================] - 6s 14ms/step - loss: 0.1965 - accuracy: 0.0150 - val_loss: 0.1924 - val_accuracy: 3.1817e-04\n",
      "Epoch 9/20\n",
      "393/393 [==============================] - 6s 14ms/step - loss: 0.1924 - accuracy: 0.0149 - val_loss: 0.1841 - val_accuracy: 0.0000e+00\n",
      "Epoch 10/20\n",
      "393/393 [==============================] - 6s 14ms/step - loss: 0.1899 - accuracy: 0.0138 - val_loss: 0.1749 - val_accuracy: 0.0013\n",
      "Epoch 11/20\n",
      "393/393 [==============================] - 5s 14ms/step - loss: 0.1843 - accuracy: 0.0153 - val_loss: 0.1802 - val_accuracy: 0.0000e+00\n",
      "Epoch 12/20\n",
      "393/393 [==============================] - 5s 14ms/step - loss: 0.1850 - accuracy: 0.0141 - val_loss: 0.1776 - val_accuracy: 3.1817e-04\n",
      "Epoch 13/20\n",
      "393/393 [==============================] - 6s 14ms/step - loss: 0.1828 - accuracy: 0.0117 - val_loss: 0.1755 - val_accuracy: 0.0013\n",
      "Epoch 14/20\n",
      "393/393 [==============================] - 6s 14ms/step - loss: 0.1855 - accuracy: 0.0172 - val_loss: 0.1741 - val_accuracy: 0.0000e+00\n",
      "Epoch 15/20\n",
      "393/393 [==============================] - 6s 14ms/step - loss: 0.1829 - accuracy: 0.0129 - val_loss: 0.1776 - val_accuracy: 3.1817e-04\n",
      "Epoch 16/20\n",
      "393/393 [==============================] - 6s 15ms/step - loss: 0.1835 - accuracy: 0.0155 - val_loss: 0.1720 - val_accuracy: 0.0016\n",
      "Epoch 17/20\n",
      "393/393 [==============================] - 6s 14ms/step - loss: 0.1822 - accuracy: 0.0165 - val_loss: 0.1759 - val_accuracy: 0.0000e+00\n",
      "Epoch 18/20\n",
      "393/393 [==============================] - 6s 14ms/step - loss: 0.1800 - accuracy: 0.0146 - val_loss: 0.1745 - val_accuracy: 0.0000e+00\n",
      "Epoch 19/20\n",
      "393/393 [==============================] - 6s 14ms/step - loss: 0.1795 - accuracy: 0.0103 - val_loss: 0.1707 - val_accuracy: 0.0000e+00\n",
      "Epoch 20/20\n",
      "393/393 [==============================] - 6s 14ms/step - loss: 0.1806 - accuracy: 0.0177 - val_loss: 0.1705 - val_accuracy: 0.0226\n",
      "Epoch 1/20\n",
      "197/197 [==============================] - 11s 44ms/step - loss: 0.3082 - accuracy: 0.0171 - val_loss: 0.2049 - val_accuracy: 0.0000e+00\n",
      "Epoch 2/20\n",
      "197/197 [==============================] - 8s 43ms/step - loss: 0.2227 - accuracy: 0.0195 - val_loss: 0.2488 - val_accuracy: 0.0000e+00\n",
      "Epoch 3/20\n",
      "197/197 [==============================] - 9s 43ms/step - loss: 0.2132 - accuracy: 0.0212 - val_loss: 0.2195 - val_accuracy: 6.3633e-04\n",
      "Epoch 4/20\n",
      "197/197 [==============================] - 8s 43ms/step - loss: 0.2071 - accuracy: 0.0177 - val_loss: 0.1986 - val_accuracy: 0.0019\n",
      "Epoch 5/20\n",
      "197/197 [==============================] - 9s 44ms/step - loss: 0.1970 - accuracy: 0.0197 - val_loss: 0.2307 - val_accuracy: 0.0000e+00\n",
      "Epoch 6/20\n",
      "197/197 [==============================] - 8s 42ms/step - loss: 0.1911 - accuracy: 0.0202 - val_loss: 0.1880 - val_accuracy: 3.1817e-04\n",
      "Epoch 7/20\n",
      "197/197 [==============================] - 8s 42ms/step - loss: 0.1883 - accuracy: 0.0232 - val_loss: 0.1779 - val_accuracy: 0.0035\n",
      "Epoch 8/20\n",
      "197/197 [==============================] - 8s 43ms/step - loss: 0.1826 - accuracy: 0.0214 - val_loss: 0.1835 - val_accuracy: 0.0344\n",
      "Epoch 9/20\n",
      "197/197 [==============================] - 9s 43ms/step - loss: 0.1824 - accuracy: 0.0205 - val_loss: 0.1975 - val_accuracy: 0.0000e+00\n",
      "Epoch 10/20\n",
      "197/197 [==============================] - 8s 42ms/step - loss: 0.1798 - accuracy: 0.0205 - val_loss: 0.1841 - val_accuracy: 0.0041\n",
      "Epoch 11/20\n",
      "197/197 [==============================] - 8s 42ms/step - loss: 0.1767 - accuracy: 0.0208 - val_loss: 0.1722 - val_accuracy: 0.0025\n",
      "Epoch 12/20\n",
      "197/197 [==============================] - 9s 44ms/step - loss: 0.1760 - accuracy: 0.0232 - val_loss: 0.1713 - val_accuracy: 0.0000e+00\n",
      "Epoch 13/20\n",
      "197/197 [==============================] - 9s 44ms/step - loss: 0.1739 - accuracy: 0.0229 - val_loss: 0.1683 - val_accuracy: 0.0064\n",
      "Epoch 14/20\n",
      "197/197 [==============================] - 8s 42ms/step - loss: 0.1728 - accuracy: 0.0210 - val_loss: 0.1684 - val_accuracy: 6.3633e-04\n",
      "Epoch 15/20\n",
      "197/197 [==============================] - 8s 42ms/step - loss: 0.1740 - accuracy: 0.0220 - val_loss: 0.1677 - val_accuracy: 0.0124\n",
      "Epoch 16/20\n",
      "197/197 [==============================] - 8s 42ms/step - loss: 0.1695 - accuracy: 0.0223 - val_loss: 0.1790 - val_accuracy: 0.0019\n",
      "Epoch 17/20\n",
      "197/197 [==============================] - 8s 42ms/step - loss: 0.1723 - accuracy: 0.0220 - val_loss: 0.1694 - val_accuracy: 0.3856\n",
      "Epoch 18/20\n",
      "197/197 [==============================] - 8s 42ms/step - loss: 0.1686 - accuracy: 0.0224 - val_loss: 0.1735 - val_accuracy: 3.1817e-04\n",
      "Epoch 19/20\n",
      "197/197 [==============================] - 9s 43ms/step - loss: 0.1693 - accuracy: 0.0241 - val_loss: 0.1758 - val_accuracy: 0.0029\n",
      "Epoch 20/20\n",
      "197/197 [==============================] - 8s 42ms/step - loss: 0.1680 - accuracy: 0.0193 - val_loss: 0.1689 - val_accuracy: 0.0038\n"
     ]
    },
    {
     "data": {
      "image/png": "[encoded data removed]",
      "text/plain": [
       "<Figure size 640x480 with 1 Axes>"
      ]
     },
     "metadata": {},
     "output_type": "display_data"
    },
    {
     "data": {
      "image/png": "[encoded data removed]",
      "text/plain": [
       "<Figure size 640x480 with 1 Axes>"
      ]
     },
     "metadata": {},
     "output_type": "display_data"
    }
   ],
   "source": [
    "import tensorflow as tf\n",
    "from tensorflow.keras.models import Sequential\n",
    "from tensorflow.keras.layers import Dense, Dropout, Flatten\n",
    "\n",
    "# define the input shape\n",
    "input_shape = (18,)\n",
    "\n",
    "# define the output shape\n",
    "output_shape = (3, 2, 2, 2, 2)\n",
    "\n",
    "# create the first model\n",
    "model1 = Sequential()\n",
    "model1.add(Dense(64, activation='relu', input_shape=input_shape))\n",
    "model1.add(Dropout(0.5))\n",
    "model1.add(Dense(256, activation='relu'))\n",
    "model1.add(Dropout(0.5))\n",
    "model1.add(Dense(1024, activation='relu'))\n",
    "model1.add(Dropout(0.5))\n",
    "model1.add(Dense(output_shape[0] * output_shape[1] * output_shape[2] * output_shape[3] * output_shape[4], activation='relu', name='output'))\n",
    "\n",
    "# create the second model\n",
    "model2 = Sequential()\n",
    "model2.add(Dense(128, activation='relu', input_shape=input_shape))\n",
    "model2.add(Dropout(0.2))\n",
    "model2.add(Dense(512, activation='relu'))\n",
    "model2.add(Dropout(0.2))\n",
    "model2.add(Dense(2048, activation='relu'))\n",
    "model2.add(Dropout(0.2))\n",
    "model2.add(Dense(output_shape[0] * output_shape[1] * output_shape[2] * output_shape[3] * output_shape[4], activation='relu', name='output'))\n",
    "\n",
    "# compile the models\n",
    "model1.compile(loss='mse', optimizer='adam', metrics=['accuracy'])\n",
    "model2.compile(loss='mse', optimizer='adam', metrics=['accuracy'])\n",
    "\n",
    "# train the models\n",
    "history1 = model1.fit(X_train, y_train, batch_size=32, epochs=20, validation_split=0.2)\n",
    "history2 = model2.fit(X_train, y_train, batch_size=64, epochs=20, validation_split=0.2)\n",
    "\n",
    "# compare the results\n",
    "import matplotlib.pyplot as plt\n",
    "\n",
    "# plot the accuracy of the two models\n",
    "plt.plot(history1.history['accuracy'], label='Model 1')\n",
    "plt.plot(history2.history['accuracy'], label='Model 2')\n",
    "plt.xlabel('Epoch')\n",
    "plt.ylabel('Accuracy')\n",
    "plt.legend()\n",
    "plt.show()\n",
    "\n",
    "# plot the loss of the two models\n",
    "plt.plot(history1.history['loss'], label='Model 1')\n",
    "plt.plot(history2.history['loss'], label='Model 2')\n",
    "plt.xlabel('Epoch')\n",
    "plt.ylabel('Loss')\n",
    "plt.legend()\n",
    "plt.show()\n"
   ]
  },
  {
   "cell_type": "code",
   "execution_count": 97,
   "id": "280053e2",
   "metadata": {},
   "outputs": [
    {
     "name": "stdout",
     "output_type": "stream",
     "text": [
      "Epoch 1/50\n",
      "393/393 [==============================] - 8s 15ms/step - loss: 0.3678 - accuracy: 0.0207 - val_loss: 0.4157 - val_accuracy: 9.5450e-04\n",
      "Epoch 2/50\n",
      "393/393 [==============================] - 6s 14ms/step - loss: 0.2283 - accuracy: 0.0194 - val_loss: 0.1947 - val_accuracy: 0.0045\n",
      "Epoch 3/50\n",
      "393/393 [==============================] - 6s 14ms/step - loss: 0.2137 - accuracy: 0.0186 - val_loss: 0.1925 - val_accuracy: 0.0048\n",
      "Epoch 4/50\n",
      "393/393 [==============================] - 6s 14ms/step - loss: 0.2067 - accuracy: 0.0208 - val_loss: 0.1913 - val_accuracy: 0.0000e+00\n",
      "Epoch 5/50\n",
      "393/393 [==============================] - 6s 14ms/step - loss: 0.2073 - accuracy: 0.0212 - val_loss: 0.1950 - val_accuracy: 0.0000e+00\n",
      "Epoch 6/50\n",
      "393/393 [==============================] - 6s 14ms/step - loss: 0.2021 - accuracy: 0.0185 - val_loss: 0.1893 - val_accuracy: 0.0000e+00\n",
      "Epoch 7/50\n",
      "393/393 [==============================] - 6s 14ms/step - loss: 0.1993 - accuracy: 0.0184 - val_loss: 0.1918 - val_accuracy: 0.0013\n",
      "Epoch 8/50\n",
      "393/393 [==============================] - 5s 14ms/step - loss: 0.1948 - accuracy: 0.0192 - val_loss: 0.1861 - val_accuracy: 0.0051\n",
      "Epoch 9/50\n",
      "393/393 [==============================] - 6s 14ms/step - loss: 0.1911 - accuracy: 0.0175 - val_loss: 0.1860 - val_accuracy: 3.1817e-04\n",
      "Epoch 10/50\n",
      "393/393 [==============================] - 6s 15ms/step - loss: 0.1882 - accuracy: 0.0172 - val_loss: 0.1785 - val_accuracy: 0.0022\n",
      "Epoch 11/50\n",
      "393/393 [==============================] - 6s 14ms/step - loss: 0.1882 - accuracy: 0.0152 - val_loss: 0.1788 - val_accuracy: 0.0000e+00\n",
      "Epoch 12/50\n",
      "393/393 [==============================] - 6s 14ms/step - loss: 0.1829 - accuracy: 0.0167 - val_loss: 0.1776 - val_accuracy: 3.1817e-04\n",
      "Epoch 13/50\n",
      "393/393 [==============================] - 5s 13ms/step - loss: 0.1850 - accuracy: 0.0156 - val_loss: 0.1737 - val_accuracy: 0.0019\n",
      "Epoch 14/50\n",
      "393/393 [==============================] - 5s 13ms/step - loss: 0.1842 - accuracy: 0.0210 - val_loss: 0.1778 - val_accuracy: 3.1817e-04\n",
      "Epoch 15/50\n",
      "393/393 [==============================] - 6s 15ms/step - loss: 0.1828 - accuracy: 0.0270 - val_loss: 0.1791 - val_accuracy: 0.0000e+00\n",
      "Epoch 16/50\n",
      "393/393 [==============================] - 6s 15ms/step - loss: 0.1781 - accuracy: 0.0281 - val_loss: 0.1689 - val_accuracy: 0.0032\n",
      "Epoch 17/50\n",
      "393/393 [==============================] - 6s 14ms/step - loss: 0.1802 - accuracy: 0.0209 - val_loss: 0.1696 - val_accuracy: 0.0000e+00\n",
      "Epoch 18/50\n",
      "393/393 [==============================] - 6s 15ms/step - loss: 0.1802 - accuracy: 0.0217 - val_loss: 0.1719 - val_accuracy: 0.0092\n",
      "Epoch 19/50\n",
      "393/393 [==============================] - 6s 14ms/step - loss: 0.1781 - accuracy: 0.0158 - val_loss: 0.1756 - val_accuracy: 0.0000e+00\n",
      "Epoch 20/50\n",
      "393/393 [==============================] - 6s 14ms/step - loss: 0.1804 - accuracy: 0.0352 - val_loss: 0.1704 - val_accuracy: 9.5450e-04\n",
      "Epoch 21/50\n",
      "393/393 [==============================] - 6s 15ms/step - loss: 0.1774 - accuracy: 0.0376 - val_loss: 0.1775 - val_accuracy: 0.0102\n",
      "Epoch 22/50\n",
      "393/393 [==============================] - 6s 15ms/step - loss: 0.1800 - accuracy: 0.0136 - val_loss: 0.1754 - val_accuracy: 0.0076\n",
      "Epoch 23/50\n",
      "393/393 [==============================] - 6s 15ms/step - loss: 0.1779 - accuracy: 0.0191 - val_loss: 0.1720 - val_accuracy: 0.0060\n",
      "Epoch 24/50\n",
      "393/393 [==============================] - 6s 14ms/step - loss: 0.1777 - accuracy: 0.0142 - val_loss: 0.1743 - val_accuracy: 3.1817e-04\n",
      "Epoch 25/50\n",
      "393/393 [==============================] - 6s 14ms/step - loss: 0.1767 - accuracy: 0.0132 - val_loss: 0.1664 - val_accuracy: 0.0178\n",
      "Epoch 26/50\n",
      "393/393 [==============================] - 5s 14ms/step - loss: 0.1773 - accuracy: 0.0060 - val_loss: 0.1732 - val_accuracy: 0.0016\n",
      "Epoch 27/50\n",
      "393/393 [==============================] - 5s 14ms/step - loss: 0.1783 - accuracy: 0.0143 - val_loss: 0.1790 - val_accuracy: 0.0442\n",
      "Epoch 28/50\n",
      "393/393 [==============================] - 6s 14ms/step - loss: 0.1774 - accuracy: 0.0102 - val_loss: 0.1712 - val_accuracy: 9.5450e-04\n",
      "Epoch 29/50\n",
      "393/393 [==============================] - 6s 14ms/step - loss: 0.1756 - accuracy: 0.0092 - val_loss: 0.1775 - val_accuracy: 0.0102\n",
      "Epoch 30/50\n",
      "393/393 [==============================] - 6s 14ms/step - loss: 0.1760 - accuracy: 0.0105 - val_loss: 0.1711 - val_accuracy: 0.0115\n",
      "Epoch 31/50\n",
      "393/393 [==============================] - 5s 14ms/step - loss: 0.1771 - accuracy: 0.0181 - val_loss: 0.1714 - val_accuracy: 0.0076\n",
      "Epoch 32/50\n",
      "393/393 [==============================] - 5s 14ms/step - loss: 0.1723 - accuracy: 0.0102 - val_loss: 0.1738 - val_accuracy: 0.0095\n",
      "Epoch 33/50\n",
      "393/393 [==============================] - 6s 15ms/step - loss: 0.1755 - accuracy: 0.0044 - val_loss: 0.1753 - val_accuracy: 0.0051\n",
      "Epoch 34/50\n",
      "393/393 [==============================] - 6s 14ms/step - loss: 0.1750 - accuracy: 0.0084 - val_loss: 0.1760 - val_accuracy: 0.0127\n",
      "Epoch 35/50\n",
      "393/393 [==============================] - 5s 14ms/step - loss: 0.1760 - accuracy: 0.0160 - val_loss: 0.1735 - val_accuracy: 0.0019\n",
      "Epoch 36/50\n",
      "393/393 [==============================] - 5s 14ms/step - loss: 0.1762 - accuracy: 0.0053 - val_loss: 0.1702 - val_accuracy: 0.0267\n",
      "Epoch 37/50\n",
      "393/393 [==============================] - 5s 14ms/step - loss: 0.1735 - accuracy: 0.0080 - val_loss: 0.1705 - val_accuracy: 0.0000e+00\n",
      "Epoch 38/50\n",
      "393/393 [==============================] - 6s 14ms/step - loss: 0.1748 - accuracy: 0.0196 - val_loss: 0.1750 - val_accuracy: 0.0000e+00\n",
      "Epoch 39/50\n",
      "393/393 [==============================] - 6s 14ms/step - loss: 0.1729 - accuracy: 0.0168 - val_loss: 0.1750 - val_accuracy: 0.0016\n",
      "Epoch 40/50\n",
      "393/393 [==============================] - 6s 14ms/step - loss: 0.1730 - accuracy: 0.0208 - val_loss: 0.1736 - val_accuracy: 0.0000e+00\n",
      "Epoch 41/50\n",
      "393/393 [==============================] - 6s 15ms/step - loss: 0.1735 - accuracy: 0.0298 - val_loss: 0.1699 - val_accuracy: 0.0064\n",
      "Epoch 42/50\n",
      "393/393 [==============================] - 6s 15ms/step - loss: 0.1721 - accuracy: 0.0075 - val_loss: 0.1735 - val_accuracy: 0.0000e+00\n",
      "Epoch 43/50\n",
      "393/393 [==============================] - 6s 15ms/step - loss: 0.1731 - accuracy: 0.0148 - val_loss: 0.1732 - val_accuracy: 0.0000e+00\n",
      "Epoch 44/50\n",
      "393/393 [==============================] - 6s 14ms/step - loss: 0.1740 - accuracy: 0.0081 - val_loss: 0.1709 - val_accuracy: 0.0000e+00\n",
      "Epoch 45/50\n",
      "393/393 [==============================] - 6s 15ms/step - loss: 0.1729 - accuracy: 0.0044 - val_loss: 0.1671 - val_accuracy: 0.0045\n",
      "Epoch 46/50\n",
      "393/393 [==============================] - 6s 15ms/step - loss: 0.1735 - accuracy: 0.0081 - val_loss: 0.1736 - val_accuracy: 0.0000e+00\n",
      "Epoch 47/50\n",
      "393/393 [==============================] - 6s 14ms/step - loss: 0.1740 - accuracy: 0.0067 - val_loss: 0.1709 - val_accuracy: 0.0000e+00\n",
      "Epoch 48/50\n",
      "393/393 [==============================] - 6s 15ms/step - loss: 0.1718 - accuracy: 0.0096 - val_loss: 0.1700 - val_accuracy: 3.1817e-04\n",
      "Epoch 49/50\n",
      "393/393 [==============================] - 6s 14ms/step - loss: 0.1739 - accuracy: 0.0050 - val_loss: 0.1719 - val_accuracy: 0.0000e+00\n",
      "Epoch 50/50\n",
      "393/393 [==============================] - 6s 14ms/step - loss: 0.1715 - accuracy: 0.0050 - val_loss: 0.1708 - val_accuracy: 0.0134\n",
      "Epoch 1/50\n",
      "197/197 [==============================] - 11s 45ms/step - loss: 0.3149 - accuracy: 0.0173 - val_loss: 0.2215 - val_accuracy: 0.1024\n",
      "Epoch 2/50\n",
      "197/197 [==============================] - 9s 43ms/step - loss: 0.2211 - accuracy: 0.0189 - val_loss: 0.2790 - val_accuracy: 0.0035\n",
      "Epoch 3/50\n",
      "197/197 [==============================] - 9s 45ms/step - loss: 0.2143 - accuracy: 0.0165 - val_loss: 0.2135 - val_accuracy: 0.0181\n",
      "Epoch 4/50\n",
      "197/197 [==============================] - 9s 46ms/step - loss: 0.2082 - accuracy: 0.0195 - val_loss: 0.1998 - val_accuracy: 0.0471\n",
      "Epoch 5/50\n",
      "197/197 [==============================] - 9s 46ms/step - loss: 0.2028 - accuracy: 0.0230 - val_loss: 0.2048 - val_accuracy: 0.0000e+00\n",
      "Epoch 6/50\n",
      "197/197 [==============================] - 9s 48ms/step - loss: 0.1990 - accuracy: 0.0191 - val_loss: 0.1872 - val_accuracy: 0.0986\n",
      "Epoch 7/50\n"
     ]
    },
    {
     "name": "stdout",
     "output_type": "stream",
     "text": [
      "197/197 [==============================] - 10s 50ms/step - loss: 0.1946 - accuracy: 0.0194 - val_loss: 0.1999 - val_accuracy: 0.0280\n",
      "Epoch 8/50\n",
      "197/197 [==============================] - 10s 48ms/step - loss: 0.1904 - accuracy: 0.0187 - val_loss: 0.1864 - val_accuracy: 0.0016\n",
      "Epoch 9/50\n",
      "197/197 [==============================] - 10s 50ms/step - loss: 0.1870 - accuracy: 0.0209 - val_loss: 0.1829 - val_accuracy: 9.5450e-04\n",
      "Epoch 10/50\n",
      "197/197 [==============================] - 9s 45ms/step - loss: 0.1845 - accuracy: 0.0215 - val_loss: 0.1749 - val_accuracy: 0.0121\n",
      "Epoch 11/50\n",
      "197/197 [==============================] - 9s 48ms/step - loss: 0.1805 - accuracy: 0.0235 - val_loss: 0.1832 - val_accuracy: 0.0019\n",
      "Epoch 12/50\n",
      "197/197 [==============================] - 9s 44ms/step - loss: 0.1770 - accuracy: 0.0199 - val_loss: 0.1719 - val_accuracy: 0.0054\n",
      "Epoch 13/50\n",
      "197/197 [==============================] - 8s 43ms/step - loss: 0.1762 - accuracy: 0.0229 - val_loss: 0.1716 - val_accuracy: 0.0404\n",
      "Epoch 14/50\n",
      "197/197 [==============================] - 8s 43ms/step - loss: 0.1737 - accuracy: 0.0213 - val_loss: 0.1745 - val_accuracy: 0.0000e+00\n",
      "Epoch 15/50\n",
      "197/197 [==============================] - 9s 43ms/step - loss: 0.1739 - accuracy: 0.0215 - val_loss: 0.1690 - val_accuracy: 3.1817e-04\n",
      "Epoch 16/50\n",
      "197/197 [==============================] - 9s 44ms/step - loss: 0.1699 - accuracy: 0.0231 - val_loss: 0.1763 - val_accuracy: 0.0013\n",
      "Epoch 17/50\n",
      "197/197 [==============================] - 9s 43ms/step - loss: 0.1734 - accuracy: 0.0204 - val_loss: 0.1691 - val_accuracy: 9.5450e-04\n",
      "Epoch 18/50\n",
      "197/197 [==============================] - 8s 43ms/step - loss: 0.1699 - accuracy: 0.0217 - val_loss: 0.1707 - val_accuracy: 3.1817e-04\n",
      "Epoch 19/50\n",
      "197/197 [==============================] - 9s 45ms/step - loss: 0.1701 - accuracy: 0.0212 - val_loss: 0.1724 - val_accuracy: 0.0029\n",
      "Epoch 20/50\n",
      "197/197 [==============================] - 8s 43ms/step - loss: 0.1704 - accuracy: 0.0249 - val_loss: 0.1710 - val_accuracy: 0.0045\n",
      "Epoch 21/50\n",
      "197/197 [==============================] - 9s 43ms/step - loss: 0.1701 - accuracy: 0.0228 - val_loss: 0.1780 - val_accuracy: 0.0000e+00\n",
      "Epoch 22/50\n",
      "197/197 [==============================] - 9s 45ms/step - loss: 0.1683 - accuracy: 0.0244 - val_loss: 0.1688 - val_accuracy: 0.0016\n",
      "Epoch 23/50\n",
      "197/197 [==============================] - 9s 44ms/step - loss: 0.1674 - accuracy: 0.0240 - val_loss: 0.1819 - val_accuracy: 0.0000e+00\n",
      "Epoch 24/50\n",
      "197/197 [==============================] - 9s 44ms/step - loss: 0.1661 - accuracy: 0.0244 - val_loss: 0.1727 - val_accuracy: 9.5450e-04\n",
      "Epoch 25/50\n",
      "197/197 [==============================] - 8s 42ms/step - loss: 0.1661 - accuracy: 0.0246 - val_loss: 0.1817 - val_accuracy: 0.0108\n",
      "Epoch 26/50\n",
      "197/197 [==============================] - 8s 43ms/step - loss: 0.1667 - accuracy: 0.0247 - val_loss: 0.1755 - val_accuracy: 0.0325\n",
      "Epoch 27/50\n",
      "197/197 [==============================] - 9s 46ms/step - loss: 0.1653 - accuracy: 0.0262 - val_loss: 0.1774 - val_accuracy: 0.0029\n",
      "Epoch 28/50\n",
      "197/197 [==============================] - 8s 43ms/step - loss: 0.1631 - accuracy: 0.0220 - val_loss: 0.1792 - val_accuracy: 3.1817e-04\n",
      "Epoch 29/50\n",
      "197/197 [==============================] - 8s 43ms/step - loss: 0.1665 - accuracy: 0.0257 - val_loss: 0.1717 - val_accuracy: 0.0729\n",
      "Epoch 30/50\n",
      "197/197 [==============================] - 8s 42ms/step - loss: 0.1619 - accuracy: 0.0251 - val_loss: 0.1761 - val_accuracy: 0.0016\n",
      "Epoch 31/50\n",
      "197/197 [==============================] - 8s 42ms/step - loss: 0.1622 - accuracy: 0.0245 - val_loss: 0.1740 - val_accuracy: 0.0013\n",
      "Epoch 32/50\n",
      "197/197 [==============================] - 8s 43ms/step - loss: 0.1652 - accuracy: 0.0216 - val_loss: 0.1740 - val_accuracy: 0.3070\n",
      "Epoch 33/50\n",
      "197/197 [==============================] - 8s 43ms/step - loss: 0.1614 - accuracy: 0.0240 - val_loss: 0.1799 - val_accuracy: 3.1817e-04\n",
      "Epoch 34/50\n",
      "197/197 [==============================] - 9s 44ms/step - loss: 0.1618 - accuracy: 0.0248 - val_loss: 0.1796 - val_accuracy: 0.0013\n",
      "Epoch 35/50\n",
      "197/197 [==============================] - 8s 43ms/step - loss: 0.1604 - accuracy: 0.0240 - val_loss: 0.1847 - val_accuracy: 0.0137\n",
      "Epoch 36/50\n",
      "197/197 [==============================] - 8s 43ms/step - loss: 0.1635 - accuracy: 0.0228 - val_loss: 0.1829 - val_accuracy: 0.0054\n",
      "Epoch 37/50\n",
      "197/197 [==============================] - 9s 45ms/step - loss: 0.1599 - accuracy: 0.0236 - val_loss: 0.1835 - val_accuracy: 0.0067\n",
      "Epoch 38/50\n",
      "197/197 [==============================] - 8s 43ms/step - loss: 0.1620 - accuracy: 0.0199 - val_loss: 0.1802 - val_accuracy: 0.0321\n",
      "Epoch 39/50\n",
      "197/197 [==============================] - 8s 42ms/step - loss: 0.1594 - accuracy: 0.0226 - val_loss: 0.1809 - val_accuracy: 0.2803\n",
      "Epoch 40/50\n",
      "197/197 [==============================] - 8s 42ms/step - loss: 0.1596 - accuracy: 0.0214 - val_loss: 0.1843 - val_accuracy: 0.0019\n",
      "Epoch 41/50\n",
      "197/197 [==============================] - 8s 42ms/step - loss: 0.1576 - accuracy: 0.0220 - val_loss: 0.1795 - val_accuracy: 0.0041\n",
      "Epoch 42/50\n",
      "197/197 [==============================] - 9s 45ms/step - loss: 0.1592 - accuracy: 0.0233 - val_loss: 0.1840 - val_accuracy: 0.1709\n",
      "Epoch 43/50\n",
      "197/197 [==============================] - 8s 43ms/step - loss: 0.1604 - accuracy: 0.0245 - val_loss: 0.1784 - val_accuracy: 0.0207\n",
      "Epoch 44/50\n",
      "197/197 [==============================] - 8s 43ms/step - loss: 0.1592 - accuracy: 0.0259 - val_loss: 0.1791 - val_accuracy: 0.0029\n",
      "Epoch 45/50\n",
      "197/197 [==============================] - 9s 43ms/step - loss: 0.1594 - accuracy: 0.0310 - val_loss: 0.1822 - val_accuracy: 0.0060\n",
      "Epoch 46/50\n",
      "197/197 [==============================] - 9s 44ms/step - loss: 0.1572 - accuracy: 0.0261 - val_loss: 0.1810 - val_accuracy: 0.0468\n",
      "Epoch 47/50\n",
      "197/197 [==============================] - 9s 43ms/step - loss: 0.1572 - accuracy: 0.0318 - val_loss: 0.1980 - val_accuracy: 0.0770\n",
      "Epoch 48/50\n",
      "197/197 [==============================] - 9s 44ms/step - loss: 0.1573 - accuracy: 0.0297 - val_loss: 0.1839 - val_accuracy: 0.0226\n",
      "Epoch 49/50\n",
      "197/197 [==============================] - 9s 44ms/step - loss: 0.1566 - accuracy: 0.0251 - val_loss: 0.1787 - val_accuracy: 0.0197\n",
      "Epoch 50/50\n",
      "197/197 [==============================] - 9s 46ms/step - loss: 0.1577 - accuracy: 0.0249 - val_loss: 0.1792 - val_accuracy: 0.0175\n"
     ]
    },
    {
     "data": {
      "image/png": "[encoded data removed]",
      "text/plain": [
       "<Figure size 640x480 with 1 Axes>"
      ]
     },
     "metadata": {},
     "output_type": "display_data"
    },
    {
     "data": {
      "image/png": "[encoded data removed]",
      "text/plain": [
       "<Figure size 640x480 with 1 Axes>"
      ]
     },
     "metadata": {},
     "output_type": "display_data"
    }
   ],
   "source": [
    "import tensorflow as tf\n",
    "from tensorflow.keras.models import Sequential\n",
    "from tensorflow.keras.layers import Dense, Dropout, Flatten\n",
    "\n",
    "# define the input shape\n",
    "input_shape = (18,)\n",
    "\n",
    "# define the output shape\n",
    "output_shape = (3, 2, 2, 2, 2)\n",
    "\n",
    "# create the first model\n",
    "model1 = Sequential()\n",
    "model1.add(Dense(64, activation='relu', input_shape=input_shape))\n",
    "model1.add(Dropout(0.5))\n",
    "model1.add(Dense(256, activation='relu'))\n",
    "model1.add(Dropout(0.5))\n",
    "model1.add(Dense(1024, activation='relu'))\n",
    "model1.add(Dropout(0.5))\n",
    "model1.add(Dense(output_shape[0] * output_shape[1] * output_shape[2] * output_shape[3] * output_shape[4], activation='relu', name='output'))\n",
    "\n",
    "# create the second model\n",
    "model2 = Sequential()\n",
    "model2.add(Dense(128, activation='relu', input_shape=input_shape))\n",
    "model2.add(Dropout(0.2))\n",
    "model2.add(Dense(512, activation='relu'))\n",
    "model2.add(Dropout(0.2))\n",
    "model2.add(Dense(2048, activation='relu'))\n",
    "model2.add(Dropout(0.2))\n",
    "model2.add(Dense(output_shape[0] * output_shape[1] * output_shape[2] * output_shape[3] * output_shape[4], activation='relu', name='output'))\n",
    "\n",
    "# compile the models\n",
    "model1.compile(loss='mse', optimizer='adam', metrics=['accuracy'])\n",
    "model2.compile(loss='mse', optimizer='adam', metrics=['accuracy'])\n",
    "\n",
    "# train the models\n",
    "history1 = model1.fit(X_train, y_train, batch_size=32, epochs=50, validation_split=0.2)\n",
    "history2 = model2.fit(X_train, y_train, batch_size=64, epochs=50, validation_split=0.2)\n",
    "\n",
    "# compare the results\n",
    "import matplotlib.pyplot as plt\n",
    "\n",
    "# plot the accuracy of the two models\n",
    "plt.plot(history1.history['accuracy'], label='Model 1')\n",
    "plt.plot(history2.history['accuracy'], label='Model 2')\n",
    "plt.xlabel('Epoch')\n",
    "plt.ylabel('Accuracy')\n",
    "plt.legend()\n",
    "plt.show()\n",
    "\n",
    "# plot the loss of the two models\n",
    "plt.plot(history1.history['loss'], label='Model 1')\n",
    "plt.plot(history2.history['loss'], label='Model 2')\n",
    "plt.xlabel('Epoch')\n",
    "plt.ylabel('Loss')\n",
    "plt.legend()\n",
    "plt.show()\n"
   ]
  },
  {
   "cell_type": "code",
   "execution_count": null,
   "id": "ac115262",
   "metadata": {},
   "outputs": [],
   "source": []
  }
 ],
 "metadata": {
  "kernelspec": {
   "display_name": "Python 3 (ipykernel)",
   "language": "python",
   "name": "python3"
  },
  "language_info": {
   "codemirror_mode": {
    "name": "ipython",
    "version": 3
   },
   "file_extension": ".py",
   "mimetype": "text/x-python",
   "name": "python",
   "nbconvert_exporter": "python",
   "pygments_lexer": "ipython3",
   "version": "3.9.13"
  }
 },
 "nbformat": 4,
 "nbformat_minor": 5
}
